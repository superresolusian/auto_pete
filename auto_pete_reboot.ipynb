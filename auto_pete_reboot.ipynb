{
 "cells": [
  {
   "cell_type": "code",
   "execution_count": 1,
   "id": "fe5989c6",
   "metadata": {},
   "outputs": [],
   "source": [
    "import numpy as np\n",
    "import random\n",
    "from scipy.optimize import minimize, linear_sum_assignment\n",
    "import itertools\n",
    "import matplotlib.pyplot as plt"
   ]
  },
  {
   "cell_type": "markdown",
   "id": "cf151404",
   "metadata": {},
   "source": [
    "## Player dictionary\n",
    "First, preferences - score out of 10 for which positions are preferred.\n",
    "**TODO: Should I enforce that scores sum to 10?**"
   ]
  },
  {
   "cell_type": "code",
   "execution_count": 34,
   "id": "dbe8fd47",
   "metadata": {},
   "outputs": [],
   "source": [
    "# array format: [defender, central, winger, forward]\n",
    "\n",
    "all_players = dict()\n",
    "\n",
    "# preferred positions\n",
    "all_players['jazzie'] = [('D',10), ('C',0), ('W',0), ('F',0)]\n",
    "all_players['caroline'] = [('D',10), ('C',0), ('W',0), ('F',0)]\n",
    "all_players['helen'] = [('D', 8), ('C',0), ('W',2), ('F',0)]\n",
    "all_players['christine'] = [('D',0), ('C',0), ('W',5), ('F',5)]\n",
    "all_players['sian'] = [('D',5), ('C',0), ('W',5), ('F',0)]\n",
    "all_players['vicky'] = [('D',0), ('C',6), ('W',3), ('F',1)]\n",
    "all_players['keah'] = [('D',0), ('C',1), ('W',5), ('F',4)]\n",
    "all_players['shafa'] = [('D',4), ('C',0), ('W',3), ('F',7)]\n",
    "all_players['olivia'] = [('D',0), ('C',1), ('W',1), ('F',8)]\n",
    "all_players['mychelle'] = [('D',0), ('C',6), ('W',0), ('F',3)]\n",
    "all_players['jaz'] = [('D',0), ('C',2), ('W',8), ('F',0)]\n",
    "\n",
    "#convert preferences to costs\n",
    "player_costs = dict()\n",
    "\n",
    "for player in all_players.keys():\n",
    "    prefs = all_players[player]\n",
    "\n",
    "    weights = []\n",
    "    for x in prefs:\n",
    "        weight = 1-(x[1]/10) if x[1]!=0 else 1.0\n",
    "        weights.append((x[0], weight))\n",
    "        \n",
    "    player_costs[player] = weights"
   ]
  },
  {
   "cell_type": "markdown",
   "id": "d07f5b3e",
   "metadata": {},
   "source": [
    "## Helper functions"
   ]
  },
  {
   "cell_type": "code",
   "execution_count": 35,
   "id": "5d2a818c",
   "metadata": {},
   "outputs": [],
   "source": [
    "def get_this_week_player_costs(this_week, player_costs=player_costs):\n",
    "    this_week_player_costs = dict()\n",
    "    for player in this_week:\n",
    "        this_week_player_costs[player] = player_costs[player]\n",
    "    return this_week_player_costs\n",
    "\n",
    "def dict_to_cost_matrix(player_costs, formation):\n",
    "    cost_matrix = []\n",
    "    for player in player_costs:\n",
    "        cost_list = []\n",
    "        for position in formation:\n",
    "            for x in player_costs[player]:\n",
    "                if x[0]==position:\n",
    "                    cost_list.append(x[1])\n",
    "        cost_matrix.append(cost_list)\n",
    "    \n",
    "    return np.array(cost_matrix)\n",
    "\n",
    "def append_subs_to_cost_matrix(cost_matrix, subs_weights):\n",
    "    n_subs = len(cost_matrix) - 6\n",
    "    cost_matrix_with_subs = []\n",
    "    for i in range(len(cost_matrix)):\n",
    "        cost_list = list(cost_matrix[i])\n",
    "        for j in range(n_subs):\n",
    "            cost_list.append(subs_weights[i])\n",
    "        cost_matrix_with_subs.append(cost_list)\n",
    "    return np.array(cost_matrix_with_subs)\n",
    "\n",
    "def alter_subs_weights(cost_matrix, subs_weights):\n",
    "    n_subs = len(cost_matrix) - 6\n",
    "    cost_matrix_with_subs = []\n",
    "    for i in range(len(cost_matrix)):\n",
    "        cost_list = list(cost_matrix[i])\n",
    "        for j in range(n_subs):\n",
    "            cost_list[-(j+1)] = subs_weights[i] \n",
    "        cost_matrix_with_subs.append(cost_list)\n",
    "    return np.array(cost_matrix_with_subs)\n",
    "\n",
    "def convert_lsa_output_to_formation(cm, row_ind, col_ind, this_week, formation_with_subs):\n",
    "    formation_dict = {'D':[], 'C':[], 'W':[], 'F':[], 'S':[]}\n",
    "    for i in range(len(col_ind)):\n",
    "        position = formation_with_subs[col_ind[i]]\n",
    "        player = this_week[i]\n",
    "        formation_dict[position].append(player)\n",
    "    formation_dict['cost'] = cm[row_ind, col_ind].sum()\n",
    "    return formation_dict\n",
    "\n",
    "def convert_formation_to_list(formation_dict):\n",
    "    out_list = [['etsuko']]\n",
    "    out_list.append(formation_dict['D'])\n",
    "    out_list.append(formation_dict['C'])\n",
    "    out_list.append(formation_dict['W'])\n",
    "    out_list.append(formation_dict['F'])\n",
    "    out_list.append(formation_dict['S'])\n",
    "    return list(np.concatenate(out_list).flat)"
   ]
  },
  {
   "cell_type": "markdown",
   "id": "d1a82833",
   "metadata": {},
   "source": [
    "## Get players this week\n",
    "**TODO: What happens without Etsuko?**"
   ]
  },
  {
   "cell_type": "code",
   "execution_count": 36,
   "id": "71ff6145",
   "metadata": {},
   "outputs": [
    {
     "name": "stdout",
     "output_type": "stream",
     "text": [
      "Add player (type x to finish): mychelle\n",
      "Add player (type x to finish): vicky\n",
      "Add player (type x to finish): sian\n",
      "Add player (type x to finish): keah\n",
      "Add player (type x to finish): jaz\n",
      "Add player (type x to finish): helen\n",
      "Add player (type x to finish): christine\n",
      "Add player (type x to finish): shafa\n",
      "Add player (type x to finish): x\n",
      "This week's squad: ['mychelle', 'vicky', 'sian', 'keah', 'jaz', 'helen', 'christine', 'shafa'] (8)\n"
     ]
    }
   ],
   "source": [
    "this_week = []\n",
    "while True:\n",
    "    entry  = input('Add player (type x to finish): ')\n",
    "    if entry == 'x':\n",
    "        break\n",
    "    while entry not in player_costs.keys():\n",
    "        entry = input('Previous entry was invalid, please try again... ')\n",
    "        \n",
    "    this_week.append(entry)\n",
    "\n",
    "n_players_this_week = len(this_week)\n",
    "    \n",
    "print(f\"This week's squad: {this_week} ({n_players_this_week})\")"
   ]
  },
  {
   "cell_type": "markdown",
   "id": "8b13ee5e",
   "metadata": {},
   "source": [
    "## Set up formation and get costs"
   ]
  },
  {
   "cell_type": "code",
   "execution_count": 37,
   "id": "d9058b5e",
   "metadata": {},
   "outputs": [],
   "source": [
    "formation = ['D', 'D', 'C', 'W', 'W', 'F']\n",
    "formation_with_subs = formation.copy()\n",
    "for i in range(n_players_this_week-6):\n",
    "    formation_with_subs.append('S')\n",
    "\n",
    "random.shuffle(this_week)\n",
    "this_week_player_costs = get_this_week_player_costs(this_week)\n",
    "cm_no_subs = dict_to_cost_matrix(this_week_player_costs, formation)"
   ]
  },
  {
   "cell_type": "markdown",
   "id": "3a41396d",
   "metadata": {},
   "source": [
    "## Set substitute weight"
   ]
  },
  {
   "cell_type": "code",
   "execution_count": 38,
   "id": "5f7871dc",
   "metadata": {},
   "outputs": [],
   "source": [
    "sub_weight = 5.0 # cost of previously-subbed player getting subbed again\n",
    "\n",
    "n_repeats = 0\n",
    "if n_players_this_week == 7:\n",
    "    n_repeats = 7\n",
    "elif n_players_this_week == 8:\n",
    "    n_repeats = 4\n",
    "elif n_players_this_week == 9:\n",
    "    n_repeats = 3"
   ]
  },
  {
   "cell_type": "markdown",
   "id": "fc4f4b04",
   "metadata": {},
   "source": [
    "## Straight-up linear sum assignment"
   ]
  },
  {
   "cell_type": "code",
   "execution_count": 39,
   "id": "b250aa02",
   "metadata": {},
   "outputs": [
    {
     "name": "stdout",
     "output_type": "stream",
     "text": [
      "{'D': ['sian', 'helen'], 'C': ['mychelle'], 'W': ['jaz', 'christine'], 'F': ['shafa'], 'S': ['keah', 'vicky'], 'cost': 2.1}\n",
      "{'D': ['sian', 'helen'], 'C': ['vicky'], 'W': ['keah', 'jaz'], 'F': ['shafa'], 'S': ['mychelle', 'christine'], 'cost': 2.1}\n",
      "{'D': ['mychelle', 'helen'], 'C': ['vicky'], 'W': ['keah', 'jaz'], 'F': ['christine'], 'S': ['sian', 'shafa'], 'cost': 2.8}\n",
      "{'D': ['sian', 'shafa'], 'C': ['mychelle'], 'W': ['keah', 'vicky'], 'F': ['christine'], 'S': ['helen', 'jaz'], 'cost': 3.2}\n"
     ]
    }
   ],
   "source": [
    "initial_subs_weights = np.zeros(n_players_this_week)\n",
    "cm = append_subs_to_cost_matrix(cm_no_subs, initial_subs_weights)\n",
    "    \n",
    "subs_weights = initial_subs_weights.copy()\n",
    "for i in range(n_repeats):\n",
    "    row_ind, col_ind = linear_sum_assignment(cm)\n",
    "    print(convert_lsa_output_to_formation(cm, row_ind, col_ind, this_week, formation_with_subs))\n",
    "    \n",
    "    for i in range(len(row_ind)):\n",
    "        if formation_with_subs[col_ind[i]]=='S':\n",
    "            subs_weights[i] += sub_weight\n",
    "    cm = alter_subs_weights(cm, subs_weights)"
   ]
  },
  {
   "cell_type": "code",
   "execution_count": 40,
   "id": "5a61c065",
   "metadata": {},
   "outputs": [],
   "source": [
    "def objective_function(x, cm_no_subs, n_repeats):\n",
    "    \n",
    "    vals = []\n",
    "    \n",
    "    cm = append_subs_to_cost_matrix(cm_no_subs, x)\n",
    "    subs_weights = x.copy()\n",
    "    \n",
    "    for i in range(n_repeats):\n",
    "        row_ind, col_ind = linear_sum_assignment(cm)\n",
    "        formation_dict = convert_lsa_output_to_formation(cm, row_ind, col_ind, this_week, formation_with_subs)\n",
    "        vals.append(formation_dict['cost'])\n",
    "\n",
    "        for i in range(len(row_ind)):\n",
    "            if formation_with_subs[col_ind[i]]=='S':\n",
    "                subs_weights[i] += 1.0\n",
    "        cm = alter_subs_weights(cm, subs_weights)\n",
    "    \n",
    "    val = np.var(vals)\n",
    "    #print(x, val)\n",
    "    \n",
    "    return val"
   ]
  },
  {
   "cell_type": "code",
   "execution_count": 41,
   "id": "22d0b67d",
   "metadata": {},
   "outputs": [
    {
     "name": "stdout",
     "output_type": "stream",
     "text": [
      "     fun: 0.03591751592788997\n",
      "     jac: array([-0.03832506,  0.08900194,  0.17652964,  0.17652964,  0.08900194,\n",
      "        0.17652964, -0.00934095, -0.03832506])\n",
      " message: 'Optimization terminated successfully'\n",
      "    nfev: 47\n",
      "     nit: 4\n",
      "    njev: 4\n",
      "  status: 0\n",
      " success: True\n",
      "       x: array([2.04530296e-01, 4.56234867e-01, 1.76826081e-17, 2.36617346e-21,\n",
      "       4.56234867e-01, 1.37781669e-21, 1.62297622e-02, 2.04530296e-01])\n"
     ]
    }
   ],
   "source": [
    "bound = (0, 1)\n",
    "bounds = []\n",
    "for i in range(n_players_this_week):\n",
    "    bounds.append(bound)\n",
    "    \n",
    "res = minimize(objective_function, x0=np.zeros(n_players_this_week), args=(cm_no_subs, n_repeats), bounds=bounds, method='SLSQP', options={'eps':0.1})\n",
    "print(res)"
   ]
  },
  {
   "cell_type": "code",
   "execution_count": 42,
   "id": "aa4d0393",
   "metadata": {},
   "outputs": [
    {
     "name": "stdout",
     "output_type": "stream",
     "text": [
      "{'D': ['sian', 'helen'], 'C': ['mychelle'], 'W': ['vicky', 'jaz'], 'F': ['shafa'], 'S': ['keah', 'christine'], 'cost': 2.709060591277039}\n",
      "['etsuko', 'sian', 'helen', 'mychelle', 'vicky', 'jaz', 'shafa', 'keah', 'christine']\n",
      "{'D': ['sian', 'helen'], 'C': ['mychelle'], 'W': ['keah', 'jaz'], 'F': ['christine'], 'S': ['vicky', 'shafa'], 'cost': 2.7724646295119166}\n",
      "['etsuko', 'sian', 'helen', 'mychelle', 'keah', 'jaz', 'christine', 'vicky', 'shafa']\n",
      "{'D': ['helen', 'shafa'], 'C': ['vicky'], 'W': ['keah', 'jaz'], 'F': ['christine'], 'S': ['mychelle', 'sian'], 'cost': 2.8562348672826605}\n",
      "['etsuko', 'helen', 'shafa', 'vicky', 'keah', 'jaz', 'christine', 'mychelle', 'sian']\n",
      "{'D': ['sian', 'shafa'], 'C': ['mychelle'], 'W': ['keah', 'vicky'], 'F': ['christine'], 'S': ['helen', 'jaz'], 'cost': 3.2}\n",
      "['etsuko', 'sian', 'shafa', 'mychelle', 'keah', 'vicky', 'christine', 'helen', 'jaz']\n"
     ]
    }
   ],
   "source": [
    "initial_subs_weights = res.x\n",
    "cm = append_subs_to_cost_matrix(cm_no_subs, initial_subs_weights)\n",
    "    \n",
    "subs_weights = initial_subs_weights.copy()\n",
    "\n",
    "for_display = []\n",
    "for i in range(n_repeats):\n",
    "    row_ind, col_ind = linear_sum_assignment(cm)\n",
    "    formation_dict = convert_lsa_output_to_formation(cm, row_ind, col_ind, this_week, formation_with_subs)\n",
    "    print(formation_dict)\n",
    "    for_display.append(convert_formation_to_list(formation_dict)))\n",
    "    \n",
    "    for i in range(len(row_ind)):\n",
    "        if formation_with_subs[col_ind[i]]=='S':\n",
    "            subs_weights[i] += sub_weight\n",
    "    cm = alter_subs_weights(cm, subs_weights)"
   ]
  },
  {
   "cell_type": "code",
   "execution_count": 44,
   "id": "3e46fee6",
   "metadata": {},
   "outputs": [],
   "source": [
    "def plot_formation(formation, t_start, t_stop):\n",
    "    # format for formation should be: GK, LB, RB, C, LW, RW, CF, S, S, S\n",
    "    make_pitch()\n",
    "    \n",
    "    positions_x = [2.5, 1.5, 3.5, 2.5, 0.5, 4.5, 2.5, 6.5, 6.5, 6.5]\n",
    "    positions_y = [4, 2.8, 2.8, 1.6, 1, 1, 0, 3, 2, 1]\n",
    "    \n",
    "    for i in range(len(formation)):\n",
    "        plt.annotate(formation[i], (positions_x[i], positions_y[i]+0.25), color='white', fontsize=14, ha='center')\n",
    "    \n",
    "    plt.plot(positions_x, positions_y, 'o', ms=10, markerfacecolor='red', markeredgecolor='white')\n",
    "    \n",
    "    plt.annotate(f'{t_start} - {t_stop} mins', (3.5, 5), color='white', fontsize=14, ha='center' )\n",
    "    \n",
    "def make_pitch():\n",
    "    plt.figure(figsize=[6,6])\n",
    "    plt.xlim([-1, 8])\n",
    "    plt.ylim([-1, 5.5])\n",
    "    plt.hlines([4.5, -0.5], -0.5, 5.5, color='white' )\n",
    "    plt.hlines(3.5, 1.5, 3.5, color='white')\n",
    "    plt.vlines([-0.5, 5.5], -0.5, 4.5, color='white')\n",
    "    plt.vlines([1.5, 3.5], 3.5, 4.5, color='white')\n",
    "\n",
    "    plt.plot([2.5], [-0.5], 'o', ms=5, color='w')\n",
    "    \n",
    "    ax = plt.gca()\n",
    "    ax.get_xaxis().set_visible(False)\n",
    "    ax.get_yaxis().set_visible(False)\n",
    "\n",
    "    ax.set_facecolor('green')\n",
    "    \n",
    "    return ax\n",
    "\n",
    "def make_pitches(n_repeats):\n",
    "    fig, axs = plt.subplots(1, n_repeats, figsize = (6*n_repeats, 6))\n",
    "\n",
    "    for ax in axs:\n",
    "        ax.set_xlim([-1, 8])\n",
    "        ax.set_ylim([-1, 5.5])\n",
    "        ax.hlines([-0.5, 4.5], -0.5, 5.5, color='white')\n",
    "        ax.hlines(3.5, 1.5, 3.5, color='white')\n",
    "        ax.vlines([-0.5, 5.5], -0.5, 4.5, color='white')\n",
    "        ax.vlines([1.5, 3.5], 3.5, 4.5, color='white')\n",
    "\n",
    "        ax.plot([2.5], [-0.5], 'o', ms=5, color='w')\n",
    "\n",
    "        ax.get_xaxis().set_visible(False)\n",
    "        ax.get_yaxis().set_visible(False)\n",
    "\n",
    "        ax.set_facecolor('green')\n",
    "    \n",
    "    return axs\n",
    "\n",
    "def plot_formations(list_of_formations, t_start, t_stop):\n",
    "    \n",
    "    n_repeats = len(list_of_formations)\n",
    "    interval = int((t_stop-t_start)/n_repeats)\n",
    "    axs = make_pitches(n_repeats)\n",
    "    \n",
    "    positions_x = [2.5, 1.5, 3.5, 2.5, 0.5, 4.5, 2.5, 6.5, 6.5, 6.5]\n",
    "    positions_y = [4, 2.8, 2.8, 1.6, 1, 1, 0, 3, 2, 1]\n",
    "    \n",
    "    for n in range(n_repeats):\n",
    "        formation = list_of_formations[n]\n",
    "        plt.axes(axs[n])\n",
    "    \n",
    "        for i in range(len(formation)):\n",
    "            plt.annotate(formation[i], (positions_x[i], positions_y[i]+0.25), color='white', fontsize=14, ha='center')\n",
    "\n",
    "        plt.plot(positions_x, positions_y, 'o', ms=10, markerfacecolor='red', markeredgecolor='white')\n",
    "\n",
    "        plt.annotate(f'{n*interval} - {(n+1)*interval} mins', (3.5, 5), color='white', fontsize=14, ha='center')\n",
    "        \n",
    "    plt.show()"
   ]
  },
  {
   "cell_type": "code",
   "execution_count": 16,
   "id": "eb543766",
   "metadata": {},
   "outputs": [],
   "source": [
    "forms_this_week = [] \n",
    "forms_this_week.append(['etsuko', 'helen', 'jazzie', 'mychelle', 'jaz', 'vicky', 'shafa', 'sian', 'keah', 'christine'])\n",
    "forms_this_week.append(['etsuko', 'sian', 'jazzie', 'vicky', 'jaz', 'keah', 'christine', 'helen', 'mychelle', 'shafa'])\n",
    "forms_this_week.append(['etsuko', 'sian', 'helen', 'mychelle', 'christine', 'keah', 'shafa', 'jaz', 'vicky', 'jazzie'])"
   ]
  },
  {
   "cell_type": "code",
   "execution_count": 17,
   "id": "f5921406",
   "metadata": {},
   "outputs": [
    {
     "data": {
      "image/png": "[encoded data removed]",
      "text/plain": [
       "<Figure size 1296x432 with 3 Axes>"
      ]
     },
     "metadata": {
      "needs_background": "light"
     },
     "output_type": "display_data"
    }
   ],
   "source": [
    "plot_formations(forms_this_week, 0, 25)"
   ]
  },
  {
   "cell_type": "code",
   "execution_count": null,
   "id": "9812c66c",
   "metadata": {},
   "outputs": [],
   "source": []
  }
 ],
 "metadata": {
  "kernelspec": {
   "display_name": "Python 3 (ipykernel)",
   "language": "python",
   "name": "python3"
  },
  "language_info": {
   "codemirror_mode": {
    "name": "ipython",
    "version": 3
   },
   "file_extension": ".py",
   "mimetype": "text/x-python",
   "name": "python",
   "nbconvert_exporter": "python",
   "pygments_lexer": "ipython3",
   "version": "3.8.13"
  }
 },
 "nbformat": 4,
 "nbformat_minor": 5
}
