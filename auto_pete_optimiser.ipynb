{
 "cells": [
  {
   "cell_type": "code",
   "execution_count": 190,
   "id": "7d71dd7f",
   "metadata": {},
   "outputs": [],
   "source": [
    "import numpy as np\n",
    "import random\n",
    "from scipy.optimize import minimize, linear_sum_assignment\n",
    "import itertools"
   ]
  },
  {
   "cell_type": "code",
   "execution_count": 191,
   "id": "c1bb6c00",
   "metadata": {},
   "outputs": [],
   "source": [
    "# set up outfield player dictionaries\n",
    "# array format: [defender, central, winger, forward]\n",
    "\n",
    "all_players = dict()\n",
    "\n",
    "# all_players['jazzie'] = [('D',1), ('C',0), ('W',0), ('F',0)]\n",
    "# all_players['caroline'] = [('D',1), ('C',0), ('W',0), ('F',0)]\n",
    "# all_players['helen'] = [('D',1), ('C',0), ('W',0), ('F',0)]\n",
    "# all_players['christine'] = [('D',0), ('C',0), ('W',0.75), ('F',0.25)]\n",
    "# all_players['sian'] = [('D',0), ('C',0), ('W',1), ('F',0)]\n",
    "# all_players['vicky'] = [('D',0), ('C',0.5), ('W',0.25), ('F',0.25)]\n",
    "# all_players['keah'] = [('D',0), ('C',0.25), ('W',0.5), ('F',0.25)]\n",
    "# all_players['shafa'] = [('D',0), ('C',0), ('W',0.25), ('F',0.75)]\n",
    "# all_players['olivia'] = [('D',0.1), ('C',0.6), ('W',0.1), ('F',0.2)]\n",
    "# all_players['mychelle'] = [('D',0), ('C',0.5), ('W',0), ('F',0.5)]\n",
    "# all_players['jaz'] = [('D',0.2), ('C',0.3), ('W',0.4), ('F',0.1)]\n",
    "\n",
    "# all_players['jazzie'] = {'D':1, 'C':0, 'W':0, 'F':0} \n",
    "# all_players['caroline'] = {'D':1, 'C':0, 'W':0, 'F':0}\n",
    "# all_players['helen'] = {'D':1, 'C':0, 'W':0, 'F':0}\n",
    "# all_players['christine'] = {'D':0, 'C':0, 'W':0.75, 'F':0.25}\n",
    "# all_players['sian'] = {'D':0, 'C':0, 'W':1, 'F':0}\n",
    "# all_players['vicky'] = {'D':0, 'C':0.5, 'W':0.25, 'F':0.25}\n",
    "# all_players['keah'] = {'D':0, 'C':0.25, 'W':0.5, 'F':0.25}\n",
    "# all_players['shafa'] = {'D':0, 'C':0, 'W':0.25, 'F':0.75}\n",
    "# all_players['olivia'] = {'D':0.1, 'C':0.6, 'W':0.1, 'F':0.2}\n",
    "# all_players['mychelle'] = {'D':0, 'C':0.5, 'W':0, 'F':0.5}\n",
    "# all_players['jaz'] = {'D':0.2, 'C':0.3, 'W':0.4, 'F':0.1}\n",
    "\n",
    "# re-write as preferences\n",
    "all_players['jazzie'] = [('D',1), ('C',0), ('W',0), ('F',0)]\n",
    "all_players['caroline'] = [('D',1), ('C',0), ('W',0), ('F',0)]\n",
    "all_players['helen'] = [('D',1), ('C',0), ('W',0), ('F',0)]\n",
    "all_players['christine'] = [('D',0), ('C',0), ('W',1), ('F',2)]\n",
    "all_players['sian'] = [('D',0), ('C',0), ('W',1), ('F',0)]\n",
    "all_players['vicky'] = [('D',0), ('C',1), ('W',2), ('F',2)]\n",
    "all_players['keah'] = [('D',0), ('C',2), ('W',1), ('F',2)]\n",
    "all_players['shafa'] = [('D',0), ('C',0), ('W',2), ('F',1)]\n",
    "all_players['olivia'] = [('D',4), ('C',1), ('W',3), ('F',2)]\n",
    "all_players['mychelle'] = [('D',0), ('C',1), ('W',0), ('F',1)]\n",
    "all_players['jaz'] = [('D',3), ('C',2), ('W',1), ('F',4)]\n",
    "\n",
    "#convert preferences to costs\n",
    "player_costs = dict()\n",
    "\n",
    "for player in all_players.keys():\n",
    "    prefs = all_players[player]\n",
    "\n",
    "    weights = []\n",
    "    for x in prefs:\n",
    "        weight = 1-(1/x[1]) if x[1]!=0 else 1.0\n",
    "        weights.append((x[0], weight))\n",
    "        \n",
    "    player_costs[player] = weights"
   ]
  },
  {
   "cell_type": "code",
   "execution_count": 192,
   "id": "641bdc01",
   "metadata": {},
   "outputs": [],
   "source": [
    "def get_this_week_player_costs(this_week, player_costs=player_costs):\n",
    "    this_week_player_costs = dict()\n",
    "    for player in this_week:\n",
    "        this_week_player_costs[player] = player_costs[player]\n",
    "    return this_week_player_costs\n",
    "\n",
    "def dict_to_cost_matrix(player_costs, formation):\n",
    "    cost_matrix = []\n",
    "    for player in player_costs:\n",
    "        cost_list = []\n",
    "        for position in formation:\n",
    "            for x in player_costs[player]:\n",
    "                if x[0]==position:\n",
    "                    cost_list.append(x[1])\n",
    "        cost_matrix.append(cost_list)\n",
    "    \n",
    "    return np.array(cost_matrix)\n",
    "\n",
    "def append_subs_to_cost_matrix(cost_matrix, subs_weights):\n",
    "    n_subs = len(cost_matrix) - 6\n",
    "    cost_matrix_with_subs = []\n",
    "    for i in range(len(cost_matrix)):\n",
    "        cost_list = list(cost_matrix[i])\n",
    "        for j in range(n_subs):\n",
    "            cost_list.append(subs_weights[i])\n",
    "        cost_matrix_with_subs.append(cost_list)\n",
    "    return np.array(cost_matrix_with_subs)\n",
    "\n",
    "def alter_subs_weights(cost_matrix, subs_weights):\n",
    "    n_subs = len(cost_matrix) - 6\n",
    "    cost_matrix_with_subs = []\n",
    "    for i in range(len(cost_matrix)):\n",
    "        cost_list = list(cost_matrix[i])\n",
    "        for j in range(n_subs):\n",
    "            cost_list[-(j+1)] = subs_weights[i] \n",
    "        cost_matrix_with_subs.append(cost_list)\n",
    "    return np.array(cost_matrix_with_subs)\n",
    "\n",
    "def convert_lsa_output_to_formation(cm, row_ind, col_ind, this_week, formation_with_subs):\n",
    "    formation_dict = {'D':[], 'C':[], 'W':[], 'F':[], 'S':[]}\n",
    "    for i in range(len(col_ind)):\n",
    "        position = formation_with_subs[col_ind[i]]\n",
    "        player = this_week[i]\n",
    "        formation_dict[position].append(player)\n",
    "    formation_dict['cost'] = cm[row_ind, col_ind].sum()\n",
    "    return formation_dict\n",
    "    "
   ]
  },
  {
   "cell_type": "code",
   "execution_count": 197,
   "id": "f478f067",
   "metadata": {},
   "outputs": [
    {
     "name": "stdout",
     "output_type": "stream",
     "text": [
      "['jazzie', 'keah', 'christine', 'olivia', 'caroline', 'vicky', 'jaz', 'sian']\n"
     ]
    }
   ],
   "source": [
    "# build cost matrix\n",
    "#this_week = ['jazzie', 'caroline', 'helen', 'sian', 'vicky', 'keah', 'olivia', 'shafa', 'jaz']\n",
    "this_week = random.sample(all_players.keys(), 8)\n",
    "\n",
    "print(this_week)\n",
    "n_players_this_week = len(this_week)\n",
    "\n",
    "formation = ['D', 'D', 'C', 'W', 'W', 'F']\n",
    "formation_with_subs = formation.copy()\n",
    "for i in range(n_players_this_week-6):\n",
    "    formation_with_subs.append('S')\n",
    "\n",
    "this_week_player_costs = get_this_week_player_costs(this_week)\n",
    "cm_no_subs = dict_to_cost_matrix(this_week_player_costs, formation)\n",
    "\n",
    "n_repeats = 0\n",
    "if n_players_this_week == 7:\n",
    "    n_repeats = 7\n",
    "elif n_players_this_week == 8:\n",
    "    n_repeats = 4\n",
    "elif n_players_this_week == 9:\n",
    "    n_repeats = 3"
   ]
  },
  {
   "cell_type": "code",
   "execution_count": 198,
   "id": "10882f0b",
   "metadata": {},
   "outputs": [
    {
     "name": "stdout",
     "output_type": "stream",
     "text": [
      "{'D': ['jazzie', 'caroline'], 'C': ['olivia'], 'W': ['keah', 'christine'], 'F': ['vicky'], 'S': ['jaz', 'sian'], 'cost': 0.5}\n",
      "{'D': ['jazzie', 'caroline'], 'C': ['olivia'], 'W': ['jaz', 'sian'], 'F': ['keah'], 'S': ['christine', 'vicky'], 'cost': 0.5}\n",
      "{'D': ['jazzie', 'caroline'], 'C': ['vicky'], 'W': ['jaz', 'sian'], 'F': ['christine'], 'S': ['keah', 'olivia'], 'cost': 0.5}\n",
      "{'D': ['olivia', 'jaz'], 'C': ['vicky'], 'W': ['keah', 'sian'], 'F': ['christine'], 'S': ['jazzie', 'caroline'], 'cost': 1.9166666666666667}\n"
     ]
    }
   ],
   "source": [
    "initial_subs_weights = np.zeros(n_players_this_week)\n",
    "cm = append_subs_to_cost_matrix(cm_no_subs, initial_subs_weights)\n",
    "    \n",
    "subs_weights = initial_subs_weights.copy()\n",
    "for i in range(n_repeats):\n",
    "    row_ind, col_ind = linear_sum_assignment(cm)\n",
    "    print(convert_lsa_output_to_formation(cm, row_ind, col_ind, this_week, formation_with_subs))\n",
    "    \n",
    "    for i in range(len(row_ind)):\n",
    "        if formation_with_subs[col_ind[i]]=='S':\n",
    "            subs_weights[i] += 2.0\n",
    "    cm = alter_subs_weights(cm, subs_weights)\n",
    "    \n",
    "    #TODO: also alter position weights to maintain position?"
   ]
  },
  {
   "cell_type": "code",
   "execution_count": 199,
   "id": "cc90364e",
   "metadata": {},
   "outputs": [
    {
     "name": "stdout",
     "output_type": "stream",
     "text": [
      "     fun: 0.0006063756186651453\n",
      "     jac: array([0.06079841, 0.00458291, 0.00458291, 0.00458291, 0.06079841,\n",
      "       0.00458291, 0.00555571, 0.00458291])\n",
      " message: 'Optimization terminated successfully'\n",
      "    nfev: 43\n",
      "     nit: 4\n",
      "    njev: 4\n",
      "  status: 0\n",
      " success: True\n",
      "       x: array([5.89110402e-18, 6.61086081e-01, 6.61086081e-01, 6.61086081e-01,\n",
      "       3.50104382e-18, 6.61086081e-01, 6.08182089e-01, 6.61086081e-01])\n"
     ]
    }
   ],
   "source": [
    "def objective_function(x, cm_no_subs, n_repeats):\n",
    "    \n",
    "    vals = []\n",
    "    \n",
    "    cm = append_subs_to_cost_matrix(cm_no_subs, x)\n",
    "    subs_weights = x.copy()\n",
    "    \n",
    "    for i in range(n_repeats):\n",
    "        row_ind, col_ind = linear_sum_assignment(cm)\n",
    "        formation_dict = convert_lsa_output_to_formation(cm, row_ind, col_ind, this_week, formation_with_subs)\n",
    "        vals.append(formation_dict['cost'])\n",
    "\n",
    "        for i in range(len(row_ind)):\n",
    "            if formation_with_subs[col_ind[i]]=='S':\n",
    "                subs_weights[i] += 2.0\n",
    "        cm = alter_subs_weights(cm, subs_weights)\n",
    "    \n",
    "    val = np.var(vals)\n",
    "    #print(x, val)\n",
    "    \n",
    "    return val\n",
    "\n",
    "this_week_player_costs = get_this_week_player_costs(this_week)\n",
    "cm_no_subs = dict_to_cost_matrix(this_week_player_costs, formation)\n",
    "#cm = append_subs_to_cost_matrix(cm_no_subs, np.zeros(n_players_this_week))\n",
    "\n",
    "n_repeats = 0\n",
    "if n_players_this_week == 7:\n",
    "    n_repeats = 7\n",
    "elif n_players_this_week == 8:\n",
    "    n_repeats = 4\n",
    "elif n_players_this_week == 9:\n",
    "    n_repeats = 3\n",
    "    \n",
    "bound = (0, 1)\n",
    "bounds = []\n",
    "for i in range(n_players_this_week):\n",
    "    bounds.append(bound)\n",
    "    \n",
    "res = minimize(objective_function, x0=np.zeros(n_players_this_week), args=(cm_no_subs, n_repeats), bounds=bounds, method='SLSQP', options={'eps':0.1})\n",
    "print(res)\n",
    "\n"
   ]
  },
  {
   "cell_type": "markdown",
   "id": "464a2155",
   "metadata": {},
   "source": [
    "todo:\n",
    "* set up cost matrix\n",
    "* follow through to end of match\n",
    "* if later combinations are forbidden, go back and adjust sub weights?\n",
    "* could turn into a meta-optimisation problem, where you are trying to optimise the inital subs weights per player to minimise total cost to team\n",
    "* integrate small weight reduction to incentivise not changing position\n",
    "* dynamic cost matrix - can i prevent failure cases where algorithm wastes all best combinations early on?"
   ]
  },
  {
   "cell_type": "code",
   "execution_count": 200,
   "id": "cf459d67",
   "metadata": {},
   "outputs": [
    {
     "name": "stdout",
     "output_type": "stream",
     "text": [
      "{'D': ['jazzie', 'caroline'], 'C': ['olivia'], 'W': ['keah', 'sian'], 'F': ['vicky'], 'S': ['christine', 'jaz'], 'cost': 1.7692681700749278}\n",
      "{'D': ['jazzie', 'caroline'], 'C': ['olivia'], 'W': ['christine', 'jaz'], 'F': ['vicky'], 'S': ['keah', 'sian'], 'cost': 1.8221721621516895}\n",
      "{'D': ['caroline', 'jaz'], 'C': ['olivia'], 'W': ['keah', 'sian'], 'F': ['christine'], 'S': ['jazzie', 'vicky'], 'cost': 1.8277527477425115}\n",
      "{'D': ['jazzie', 'jaz'], 'C': ['vicky'], 'W': ['keah', 'sian'], 'F': ['christine'], 'S': ['olivia', 'caroline'], 'cost': 1.8277527477425115}\n"
     ]
    }
   ],
   "source": [
    "initial_subs_weights = res.x\n",
    "cm = append_subs_to_cost_matrix(cm_no_subs, initial_subs_weights)\n",
    "    \n",
    "subs_weights = initial_subs_weights.copy()\n",
    "for i in range(n_repeats):\n",
    "    row_ind, col_ind = linear_sum_assignment(cm)\n",
    "    print(convert_lsa_output_to_formation(cm, row_ind, col_ind, this_week, formation_with_subs))\n",
    "    \n",
    "    for i in range(len(row_ind)):\n",
    "        if formation_with_subs[col_ind[i]]=='S':\n",
    "            subs_weights[i] += 2.0\n",
    "    cm = alter_subs_weights(cm, subs_weights)"
   ]
  }
 ],
 "metadata": {
  "kernelspec": {
   "display_name": "Python 3",
   "language": "python",
   "name": "python3"
  },
  "language_info": {
   "codemirror_mode": {
    "name": "ipython",
    "version": 3
   },
   "file_extension": ".py",
   "mimetype": "text/x-python",
   "name": "python",
   "nbconvert_exporter": "python",
   "pygments_lexer": "ipython3",
   "version": "3.8.8"
  }
 },
 "nbformat": 4,
 "nbformat_minor": 5
}
