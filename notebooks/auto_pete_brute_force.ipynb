{
 "cells": [
  {
   "cell_type": "code",
   "execution_count": 28,
   "id": "79c99967",
   "metadata": {},
   "outputs": [],
   "source": [
    "import numpy as np\n",
    "import random\n",
    "import itertools\n",
    "import copy"
   ]
  },
  {
   "cell_type": "code",
   "execution_count": 29,
   "id": "762ae92c",
   "metadata": {},
   "outputs": [],
   "source": [
    "goalkeepers = ['etsuko']\n",
    "defenders = ['jazzie', 'helen', 'caroline']\n",
    "centrals = ['vicky', 'olivia', 'keah', 'jaz']\n",
    "wingers = ['keah', 'vicky', 'olivia', 'sian','jaz']\n",
    "forwards = ['keah', 'olivia', 'vicky', 'shafa']\n",
    "\n",
    "all_players = np.unique(goalkeepers + defenders + centrals + wingers + forwards).tolist()\n",
    "\n",
    "permanent_gk = 0\n",
    "if len(goalkeepers)==1:\n",
    "    players_to_rotate = np.unique(defenders + centrals + wingers + forwards).tolist()\n",
    "    permanent_gk = 1\n",
    "else:\n",
    "    players_to_rotate = all_players\n",
    "    \n",
    "n_players_to_rotate = len(players_to_rotate)"
   ]
  },
  {
   "cell_type": "code",
   "execution_count": 30,
   "id": "58fa43b6",
   "metadata": {},
   "outputs": [
    {
     "name": "stdout",
     "output_type": "stream",
     "text": [
      "{'caroline': ['D'], 'helen': ['D'], 'jaz': ['C', 'W'], 'jazzie': ['D'], 'keah': ['C', 'W', 'F'], 'olivia': ['C', 'W', 'F'], 'shafa': ['F'], 'sian': ['W'], 'vicky': ['C', 'W', 'F']}\n",
      "{'D': ['jazzie', 'helen', 'caroline'], 'C': ['vicky', 'olivia', 'keah', 'jaz'], 'W': ['keah', 'vicky', 'olivia', 'sian', 'jaz'], 'F': ['keah', 'olivia', 'vicky', 'shafa']}\n"
     ]
    }
   ],
   "source": [
    "# player dictionary\n",
    "player_dict = dict()\n",
    "for player in players_to_rotate:\n",
    "    positions = []\n",
    "    if player in defenders:\n",
    "        positions.append('D')\n",
    "    if player in centrals:\n",
    "        positions.append('C')\n",
    "    if player in wingers:\n",
    "        positions.append('W')\n",
    "    if player in forwards:\n",
    "        positions.append('F')\n",
    "    player_dict[player] = positions\n",
    "    \n",
    "print(player_dict)\n",
    "\n",
    "position_dict = {'D':defenders, 'C':centrals, 'W':wingers, 'F':forwards}\n",
    "print(position_dict)"
   ]
  },
  {
   "cell_type": "code",
   "execution_count": 31,
   "id": "cce6e5b5",
   "metadata": {},
   "outputs": [],
   "source": [
    "# formation\n",
    "n_defender = 2\n",
    "n_central = 1\n",
    "n_winger = 2\n",
    "n_forward = 1\n",
    "\n",
    "master_formation = ['D', 'D', 'C', 'W', 'W', 'F']\n",
    "master_formation.sort()"
   ]
  },
  {
   "cell_type": "code",
   "execution_count": 32,
   "id": "df53d6ba",
   "metadata": {},
   "outputs": [],
   "source": [
    "# dictionary of sub periods\n",
    "off_times = {1:[1,7], 2:[2,6], 3:[2,8]}\n",
    "n_subs = n_players_to_rotate - 6\n",
    "\n",
    "n_periods = 7\n",
    "if n_subs==2:\n",
    "    n_periods = 4\n",
    "elif n_subs==3:\n",
    "    n_periods = 3"
   ]
  },
  {
   "cell_type": "code",
   "execution_count": 33,
   "id": "3738a461",
   "metadata": {},
   "outputs": [
    {
     "data": {
      "text/plain": [
       "(9, 3, 3)"
      ]
     },
     "execution_count": 33,
     "metadata": {},
     "output_type": "execute_result"
    }
   ],
   "source": [
    "n_players_to_rotate, n_subs, n_periods"
   ]
  },
  {
   "cell_type": "code",
   "execution_count": 34,
   "id": "01e300fa",
   "metadata": {},
   "outputs": [],
   "source": [
    "def n_positions_on_pitch(player_list, position_list):\n",
    "    n_players_on_pitch = 0\n",
    "    for player in position_list:\n",
    "        if player in player_list:\n",
    "            n_players_on_pitch += 1\n",
    "            \n",
    "    return n_players_on_pitch\n",
    "\n",
    "def check_valid_players(player_list):\n",
    "    defenders_valid = True if n_positions_on_pitch(player_list, defenders)>=n_defender else False\n",
    "    centrals_valid = True if n_positions_on_pitch(player_list, centrals)>=n_central else False\n",
    "    wingers_valid = True if n_positions_on_pitch(player_list, wingers)>=n_winger else False\n",
    "    forwards_valid = True if n_positions_on_pitch(player_list, forwards)>=n_forward else False\n",
    "    \n",
    "    return defenders_valid and centrals_valid and wingers_valid and forwards_valid\n",
    "\n",
    "def check_valid_players_2(player_list):\n",
    "    \n",
    "    formation = {'D':[], 'C':[], 'W':[], 'F':[]}\n",
    "    \n",
    "    multi_position_players = []\n",
    "    available_positions = []\n",
    "    \n",
    "    _formation = []\n",
    "\n",
    "    \n",
    "    for player in player_list:\n",
    "        positions = player_dict[player]\n",
    "        if len(positions)>1:\n",
    "            multi_position_players.append(player)\n",
    "            #available_positions.append(positions)\n",
    "            available_positions.append(tuple(positions))\n",
    "        else:\n",
    "            position = positions[0]\n",
    "            _formation.append(position)\n",
    "            formation[position].append(player)\n",
    "            \n",
    "    \n",
    "    multi_options = list(itertools.product(*available_positions))\n",
    "    \n",
    "    found_good_formation = False\n",
    "    \n",
    "    formations = []\n",
    "    \n",
    "    for m in multi_options:\n",
    "        this_formation = copy.deepcopy(formation)\n",
    "        \n",
    "        new_formation = list(m) + _formation\n",
    "        new_formation.sort()\n",
    "        \n",
    "        if new_formation == master_formation:\n",
    "            found_good_formation = True\n",
    "            for i in range(len(m)):\n",
    "                this_formation[m[i]].append(multi_position_players[i])\n",
    "            this_formation['S'] = list(set(players_to_rotate)-set(player_list))\n",
    "            formations.append(this_formation)\n",
    "\n",
    "    #for f in formations:\n",
    "    #    print(f)\n",
    "    \n",
    "    if found_good_formation:\n",
    "        return True, formations\n",
    "    \n",
    "    else:\n",
    "        return False, []\n",
    "    \n",
    "def formation_output(formation):\n",
    "    out_dict = {'Defenders':[], 'Central mid':[], 'Wingers':[], 'Forward':[], 'Subs':[]}\n",
    "    out_dict['Defenders'] = formation['D']\n",
    "    out_dict['Central mid'] = formation['C']\n",
    "    out_dict['Wingers'] = formation['W']\n",
    "    out_dict['Forward'] = formation['F']\n",
    "    out_dict['Subs'] = formation['S']\n",
    "    return out_dict\n",
    "    "
   ]
  },
  {
   "cell_type": "code",
   "execution_count": 37,
   "id": "18a4cd73",
   "metadata": {},
   "outputs": [
    {
     "name": "stdout",
     "output_type": "stream",
     "text": [
      "{'Defenders': ['jazzie', 'caroline'], 'Central mid': ['jaz'], 'Wingers': ['sian', 'vicky'], 'Forward': ['shafa'], 'Subs': ['helen', 'olivia', 'keah']}\n",
      "{'Defenders': ['helen', 'caroline'], 'Central mid': ['olivia'], 'Wingers': ['vicky', 'keah'], 'Forward': ['shafa'], 'Subs': ['jaz', 'jazzie', 'sian']}\n",
      "{'Defenders': ['helen', 'jazzie'], 'Central mid': ['keah'], 'Wingers': ['sian', 'jaz'], 'Forward': ['olivia'], 'Subs': ['vicky', 'caroline', 'shafa']}\n"
     ]
    }
   ],
   "source": [
    "sub_combos = itertools.combinations(players_to_rotate, n_subs)\n",
    "valid_combos = []\n",
    "for combo in sub_combos:\n",
    "    okay, formations = check_valid_players_2(list(set(players_to_rotate)-set(combo)))\n",
    "    if okay:\n",
    "        #for f in formation:\n",
    "        #    print(f'formation: {f}')\n",
    "        valid_combos.append(combo)\n",
    "        \n",
    "final_combos = []\n",
    "#print(valid_combos)\n",
    "blah = itertools.combinations(valid_combos, n_periods)\n",
    "for b in blah:\n",
    "    #print(b)\n",
    "    if len(np.unique(list(sum(b,())))) == n_players_to_rotate:\n",
    "        #print(b)\n",
    "        final_combos.append(b)\n",
    "        \n",
    "choice = random.choice(final_combos)\n",
    "final_subs = random.sample(choice, k=len(choice))\n",
    "\n",
    "for sub in final_subs:\n",
    "    print(formation_output(random.choice(check_valid_players_2(list(set(players_to_rotate)-set(sub)))[1])))"
   ]
  },
  {
   "cell_type": "code",
   "execution_count": null,
   "id": "91dca5b5",
   "metadata": {},
   "outputs": [],
   "source": []
  }
 ],
 "metadata": {
  "kernelspec": {
   "display_name": "Python 3",
   "language": "python",
   "name": "python3"
  },
  "language_info": {
   "codemirror_mode": {
    "name": "ipython",
    "version": 3
   },
   "file_extension": ".py",
   "mimetype": "text/x-python",
   "name": "python",
   "nbconvert_exporter": "python",
   "pygments_lexer": "ipython3",
   "version": "3.8.8"
  }
 },
 "nbformat": 4,
 "nbformat_minor": 5
}
