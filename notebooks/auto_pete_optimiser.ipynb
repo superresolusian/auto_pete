{
 "cells": [
  {
   "cell_type": "code",
   "execution_count": 5,
   "id": "9edb823d-8346-45b1-8e9f-59c64fcb4ac1",
   "metadata": {},
   "outputs": [],
   "source": [
    "try:\n",
    "    import numpy as np\n",
    "    import random   \n",
    "    from scipy.optimize import minimize, linear_sum_assignment\n",
    "    import itertools\n",
    "    import matplotlib.pyplot as plt\n",
    "except:\n",
    "    !pip install matplotlib"
   ]
  },
  {
   "cell_type": "code",
   "execution_count": 6,
   "id": "7d71dd7f",
   "metadata": {},
   "outputs": [],
   "source": [
    "import numpy as np\n",
    "import random\n",
    "from scipy.optimize import minimize, linear_sum_assignment\n",
    "import itertools\n",
    "import matplotlib.pyplot as plt"
   ]
  },
  {
   "cell_type": "code",
   "execution_count": 54,
   "id": "c1bb6c00",
   "metadata": {},
   "outputs": [
    {
     "name": "stdout",
     "output_type": "stream",
     "text": [
      "player_costs:\n",
      " {'jazzie': [('D', 0.0), ('C', 1.0), ('W', 1.0), ('F', 1.0)], 'caroline': [('D', 0.0), ('C', 1.0), ('W', 1.0), ('F', 1.0)], 'helen': [('D', 0.0), ('C', 1.0), ('W', 0.6666666666666667), ('F', 1.0)], 'christine': [('D', 1.0), ('C', 1.0), ('W', 0.0), ('F', 0.5)], 'sian': [('D', 0.0), ('C', 1.0), ('W', 0.0), ('F', 1.0)], 'vicky': [('D', 1.0), ('C', 0.0), ('W', 0.5), ('F', 0.5)], 'keah': [('D', 1.0), ('C', 0.33333333333333337), ('W', 0.0), ('F', 0.5)], 'shafa': [('D', 1.0), ('C', 1.0), ('W', 0.5), ('F', 0.0)], 'olivia': [('D', 1.0), ('C', 0.5), ('W', 0.5), ('F', 1.0)], 'mychelle': [('D', 0.75), ('C', 0.0), ('W', 1.0), ('F', 0.0)], 'jaz': [('D', 1.0), ('C', 0.6666666666666667), ('W', 0.0), ('F', 1.0)]}\n"
     ]
    }
   ],
   "source": [
    "# set up outfield player dictionaries\n",
    "# array format: [defender, central, winger, forward]\n",
    "\n",
    "all_players = dict()\n",
    "\n",
    "# re-write as preferences\n",
    "all_players['jazzie'] = [('D',1), ('C',0), ('W',0), ('F',0)]\n",
    "all_players['caroline'] = [('D',1), ('C',0), ('W',0), ('F',0)]\n",
    "all_players['helen'] = [('D',1), ('C',0), ('W',3), ('F',0)]\n",
    "all_players['christine'] = [('D',0), ('C',0), ('W',1), ('F',2)]\n",
    "all_players['sian'] = [('D',1), ('C',0), ('W',1), ('F',0)]\n",
    "all_players['vicky'] = [('D',0), ('C',1), ('W',2), ('F',2)]\n",
    "all_players['keah'] = [('D',0), ('C',1.5), ('W',1), ('F',2)]\n",
    "all_players['shafa'] = [('D',0), ('C',0), ('W',2), ('F',1)]\n",
    "all_players['olivia'] = [('D',0), ('C',2), ('W',2), ('F',0)]\n",
    "all_players['mychelle'] = [('D',4), ('C',1), ('W',0), ('F',1)]\n",
    "all_players['jaz'] = [('D',0), ('C',3), ('W',1), ('F',0)]\n",
    "\n",
    "#convert preferences to costs\n",
    "player_costs = dict()\n",
    "\n",
    "for player in all_players.keys():\n",
    "    prefs = all_players[player]\n",
    "\n",
    "    costs = []\n",
    "    for x in prefs:\n",
    "        cost = 1-(1/x[1]) if x[1]!=0 else 1.0\n",
    "        costs.append((x[0], cost))\n",
    "        \n",
    "    player_costs[player] = costs\n",
    "    \n",
    "print(f'player_costs:\\n {player_costs}')"
   ]
  },
  {
   "cell_type": "code",
   "execution_count": 8,
   "id": "641bdc01",
   "metadata": {},
   "outputs": [],
   "source": [
    "def get_this_week_player_costs(this_week, player_costs=player_costs):\n",
    "    this_week_player_costs = dict()\n",
    "    for player in this_week:\n",
    "        this_week_player_costs[player] = player_costs[player]\n",
    "    return this_week_player_costs\n",
    "\n",
    "def dict_to_cost_matrix(player_costs, formation):\n",
    "    cost_matrix = []\n",
    "    for player in player_costs:\n",
    "        cost_list = []\n",
    "        for position in formation:\n",
    "            for x in player_costs[player]:\n",
    "                if x[0]==position:\n",
    "                    cost_list.append(x[1])\n",
    "        cost_matrix.append(cost_list)\n",
    "    \n",
    "    return np.array(cost_matrix)\n",
    "\n",
    "def append_subs_to_cost_matrix(cost_matrix, subs_weights):\n",
    "    n_subs = len(cost_matrix) - 6\n",
    "    cost_matrix_with_subs = []\n",
    "    for i in range(len(cost_matrix)):\n",
    "        cost_list = list(cost_matrix[i])\n",
    "        for j in range(n_subs):\n",
    "            cost_list.append(subs_weights[i])\n",
    "        cost_matrix_with_subs.append(cost_list)\n",
    "    return np.array(cost_matrix_with_subs)\n",
    "\n",
    "def alter_subs_weights(cost_matrix, subs_weights):\n",
    "    n_subs = len(cost_matrix) - 6\n",
    "    cost_matrix_with_subs = []\n",
    "    for i in range(len(cost_matrix)):\n",
    "        cost_list = list(cost_matrix[i])\n",
    "        for j in range(n_subs):\n",
    "            cost_list[-(j+1)] = subs_weights[i] \n",
    "        cost_matrix_with_subs.append(cost_list)\n",
    "    return np.array(cost_matrix_with_subs)\n",
    "\n",
    "def convert_lsa_output_to_formation(cm, row_ind, col_ind, this_week, formation_with_subs):\n",
    "    formation_dict = {'D':[], 'C':[], 'W':[], 'F':[], 'S':[]}\n",
    "    for i in range(len(col_ind)):\n",
    "        position = formation_with_subs[col_ind[i]]\n",
    "        player = this_week[i]\n",
    "        formation_dict[position].append(player)\n",
    "    formation_dict['cost'] = cm[row_ind, col_ind].sum()\n",
    "    return formation_dict\n",
    "    "
   ]
  },
  {
   "cell_type": "code",
   "execution_count": 56,
   "id": "f478f067",
   "metadata": {},
   "outputs": [
    {
     "name": "stdout",
     "output_type": "stream",
     "text": [
      "['helen', 'mychelle', 'sian', 'olivia', 'christine', 'keah', 'jaz', 'caroline', 'vicky']\n"
     ]
    }
   ],
   "source": [
    "# build cost matrix\n",
    "this_week = ['mychelle', 'helen', 'keah', 'caroline', 'christine', 'vicky', 'sian', 'olivia', 'jaz']\n",
    "# this_week = random.sample(all_players.keys(), 9)\n",
    "random.shuffle(this_week)\n",
    "\n",
    "print(this_week)\n",
    "n_players_this_week = len(this_week)\n",
    "\n",
    "formation = ['D', 'D', 'C', 'W', 'W', 'F']\n",
    "formation_with_subs = formation.copy()\n",
    "for i in range(n_players_this_week-6):\n",
    "    formation_with_subs.append('S')\n",
    "\n",
    "this_week_player_costs = get_this_week_player_costs(this_week)\n",
    "cm_no_subs = dict_to_cost_matrix(this_week_player_costs, formation)\n",
    "\n",
    "sub_weight = 1.0 # cost of subbed player getting subbed again\n",
    "unpreferred_position_weight = 1.0 # cost of having a position filled by someone who doesn't have it as first preference\n",
    "\n",
    "symmetric = True\n",
    "\n",
    "if n_players_this_week == 9:\n",
    "    if symmetric:\n",
    "        n_repeats = 3\n",
    "    else:\n",
    "        n_repeats = 6\n",
    "        sub_weight = 0.5\n",
    "elif n_players_this_week == 8:\n",
    "    if symmetric:\n",
    "        n_repeats = 4\n",
    "    else:\n",
    "        n_repeats = 8\n",
    "        sub_weight = 0.5\n",
    "else:\n",
    "    n_repeats = 7\n",
    "\n",
    "#n_repeats = 6 # how many periods to split game into"
   ]
  },
  {
   "cell_type": "code",
   "execution_count": 57,
   "id": "10882f0b",
   "metadata": {},
   "outputs": [
    {
     "name": "stdout",
     "output_type": "stream",
     "text": [
      "n_players_this_week: 9\n",
      "n_repeats: 3\n",
      "cm size: (9, 9)\n",
      "Initial cost_matrix [cm]:\n",
      " [[0.         0.         1.         0.66666667 0.66666667 1.\n",
      "  0.         0.         0.        ]\n",
      " [0.75       0.75       0.         1.         1.         0.\n",
      "  0.         0.         0.        ]\n",
      " [0.         0.         1.         0.         0.         1.\n",
      "  0.         0.         0.        ]\n",
      " [1.         1.         0.5        0.5        0.5        1.\n",
      "  0.         0.         0.        ]\n",
      " [1.         1.         1.         0.         0.         0.5\n",
      "  0.         0.         0.        ]\n",
      " [1.         1.         0.33333333 0.         0.         0.5\n",
      "  0.         0.         0.        ]\n",
      " [1.         1.         0.66666667 0.         0.         1.\n",
      "  0.         0.         0.        ]\n",
      " [0.         0.         1.         1.         1.         1.\n",
      "  0.         0.         0.        ]\n",
      " [1.         1.         0.         0.5        0.5        0.5\n",
      "  0.         0.         0.        ]]\n",
      "Initial subs_weights:\n",
      " [0. 0. 0. 0. 0. 0. 0. 0. 0.]\n",
      "\n",
      "cost_matrix [cm]:\n",
      " [[0.         0.         1.         0.66666667 0.66666667 1.\n",
      "  0.         0.         0.        ]\n",
      " [0.75       0.75       0.         1.         1.         0.\n",
      "  0.         0.         0.        ]\n",
      " [0.         0.         1.         0.         0.         1.\n",
      "  0.         0.         0.        ]\n",
      " [1.         1.         0.5        0.5        0.5        1.\n",
      "  1.         1.         1.        ]\n",
      " [1.         1.         1.         0.         0.         0.5\n",
      "  0.         0.         0.        ]\n",
      " [1.         1.         0.33333333 0.         0.         0.5\n",
      "  0.         0.         0.        ]\n",
      " [1.         1.         0.66666667 0.         0.         1.\n",
      "  1.         1.         1.        ]\n",
      " [0.         0.         1.         1.         1.         1.\n",
      "  1.         1.         1.        ]\n",
      " [1.         1.         0.         0.5        0.5        0.5\n",
      "  0.         0.         0.        ]]\n",
      "subs_weights:\n",
      " [0. 0. 0. 1. 0. 0. 1. 1. 0.]\n",
      "cm_diff:\n",
      " [[0. 0. 0. 0. 0. 0. 0. 0. 0.]\n",
      " [0. 0. 0. 0. 0. 0. 0. 0. 0.]\n",
      " [0. 0. 0. 0. 0. 0. 0. 0. 0.]\n",
      " [0. 0. 0. 0. 0. 0. 1. 1. 1.]\n",
      " [0. 0. 0. 0. 0. 0. 0. 0. 0.]\n",
      " [0. 0. 0. 0. 0. 0. 0. 0. 0.]\n",
      " [0. 0. 0. 0. 0. 0. 1. 1. 1.]\n",
      " [0. 0. 0. 0. 0. 0. 1. 1. 1.]\n",
      " [0. 0. 0. 0. 0. 0. 0. 0. 0.]]\n",
      "cost_matrix [cm]:\n",
      " [[0.         0.         1.         0.66666667 0.66666667 1.\n",
      "  0.         0.         0.        ]\n",
      " [0.75       0.75       0.         1.         1.         0.\n",
      "  0.         0.         0.        ]\n",
      " [0.         0.         1.         0.         0.         1.\n",
      "  1.         1.         1.        ]\n",
      " [1.         1.         0.5        0.5        0.5        1.\n",
      "  1.         1.         1.        ]\n",
      " [1.         1.         1.         0.         0.         0.5\n",
      "  1.         1.         1.        ]\n",
      " [1.         1.         0.33333333 0.         0.         0.5\n",
      "  1.         1.         1.        ]\n",
      " [1.         1.         0.66666667 0.         0.         1.\n",
      "  1.         1.         1.        ]\n",
      " [0.         0.         1.         1.         1.         1.\n",
      "  1.         1.         1.        ]\n",
      " [1.         1.         0.         0.5        0.5        0.5\n",
      "  0.         0.         0.        ]]\n",
      "subs_weights:\n",
      " [0. 0. 1. 1. 1. 1. 1. 1. 0.]\n",
      "cm_diff:\n",
      " [[0. 0. 0. 0. 0. 0. 0. 0. 0.]\n",
      " [0. 0. 0. 0. 0. 0. 0. 0. 0.]\n",
      " [0. 0. 0. 0. 0. 0. 1. 1. 1.]\n",
      " [0. 0. 0. 0. 0. 0. 1. 1. 1.]\n",
      " [0. 0. 0. 0. 0. 0. 1. 1. 1.]\n",
      " [0. 0. 0. 0. 0. 0. 1. 1. 1.]\n",
      " [0. 0. 0. 0. 0. 0. 1. 1. 1.]\n",
      " [0. 0. 0. 0. 0. 0. 1. 1. 1.]\n",
      " [0. 0. 0. 0. 0. 0. 0. 0. 0.]]\n",
      "cost_matrix [cm]:\n",
      " [[0.         0.         1.         0.66666667 0.66666667 1.\n",
      "  1.         1.         1.        ]\n",
      " [0.75       0.75       0.         1.         1.         0.\n",
      "  1.         1.         1.        ]\n",
      " [0.         0.         1.         0.         0.         1.\n",
      "  1.         1.         1.        ]\n",
      " [1.         1.         0.5        0.5        0.5        1.\n",
      "  1.         1.         1.        ]\n",
      " [1.         1.         1.         0.         0.         0.5\n",
      "  1.         1.         1.        ]\n",
      " [1.         1.         0.33333333 0.         0.         0.5\n",
      "  1.         1.         1.        ]\n",
      " [1.         1.         0.66666667 0.         0.         1.\n",
      "  1.         1.         1.        ]\n",
      " [0.         0.         1.         1.         1.         1.\n",
      "  1.         1.         1.        ]\n",
      " [1.         1.         0.         0.5        0.5        0.5\n",
      "  1.         1.         1.        ]]\n",
      "subs_weights:\n",
      " [1. 1. 1. 1. 1. 1. 1. 1. 1.]\n",
      "cm_diff:\n",
      " [[0. 0. 0. 0. 0. 0. 1. 1. 1.]\n",
      " [0. 0. 0. 0. 0. 0. 1. 1. 1.]\n",
      " [0. 0. 0. 0. 0. 0. 1. 1. 1.]\n",
      " [0. 0. 0. 0. 0. 0. 1. 1. 1.]\n",
      " [0. 0. 0. 0. 0. 0. 1. 1. 1.]\n",
      " [0. 0. 0. 0. 0. 0. 1. 1. 1.]\n",
      " [0. 0. 0. 0. 0. 0. 1. 1. 1.]\n",
      " [0. 0. 0. 0. 0. 0. 1. 1. 1.]\n",
      " [0. 0. 0. 0. 0. 0. 1. 1. 1.]]\n"
     ]
    }
   ],
   "source": [
    "initial_subs_weights = np.zeros(n_players_this_week)\n",
    "cm = append_subs_to_cost_matrix(cm_no_subs, initial_subs_weights)\n",
    "cm_init = cm\n",
    "\n",
    "subs_weights = initial_subs_weights.copy()\n",
    "\n",
    "print(f'n_players_this_week: {n_players_this_week}')\n",
    "print(f'n_repeats: {n_repeats}')\n",
    "print(f'cm size: {cm.shape}')\n",
    "print(f'Initial cost_matrix [cm]:\\n {cm_init}')\n",
    "print(f'Initial subs_weights:\\n {subs_weights}\\n')\n",
    "\n",
    "for i in range(n_repeats):\n",
    "    row_ind, col_ind = linear_sum_assignment(cm)\n",
    "    # print(convert_lsa_output_to_formation(cm, row_ind, col_ind, this_week, formation_with_subs))\n",
    "    \n",
    "    for i in range(len(row_ind)):\n",
    "        if formation_with_subs[col_ind[i]]=='S':\n",
    "            subs_weights[i] += sub_weight\n",
    "        \n",
    "    cm = alter_subs_weights(cm, subs_weights)\n",
    "    \n",
    "    print(f'cost_matrix [cm]:\\n {cm}')\n",
    "    print(f'subs_weights:\\n {subs_weights}')\n",
    "    print(f'cm_diff:\\n {cm-cm_init}')\n",
    "    \n",
    "    #TODO: also alter position weights to maintain position?"
   ]
  },
  {
   "cell_type": "code",
   "execution_count": 33,
   "id": "cc90364e",
   "metadata": {},
   "outputs": [
    {
     "name": "stdout",
     "output_type": "stream",
     "text": [
      "     fun: 0.061170777282773724\n",
      "     jac: array([0.25472389, 0.25472389, 0.25472389, 0.25472389, 0.06969395,\n",
      "       0.25472389, 0.25472389, 0.25472389, 0.25472389])\n",
      " message: 'Optimization terminated successfully'\n",
      "    nfev: 42\n",
      "     nit: 3\n",
      "    njev: 3\n",
      "  status: 0\n",
      " success: True\n",
      "       x: array([2.89722595e-17, 1.45591081e-17, 1.46196452e-17, 9.24381680e-25,\n",
      "       4.53742514e-01, 3.05394428e-17, 9.06626724e-17, 1.53706220e-24,\n",
      "       3.05394432e-17])\n"
     ]
    }
   ],
   "source": [
    "def objective_function(x, cm_no_subs, n_repeats):\n",
    "    \n",
    "    vals = []\n",
    "    \n",
    "    cm = append_subs_to_cost_matrix(cm_no_subs, x)\n",
    "    subs_weights = x.copy()\n",
    "    \n",
    "    for i in range(n_repeats):\n",
    "        row_ind, col_ind = linear_sum_assignment(cm)\n",
    "        #print(f'rows {row_ind} cols {col_ind}')\n",
    "        formation_dict = convert_lsa_output_to_formation(cm, row_ind, col_ind, this_week, formation_with_subs)\n",
    "        #print(f'formation dict: {formation_dict}')\n",
    "\n",
    "        for i in range(len(row_ind)):\n",
    "            if formation_with_subs[col_ind[i]]=='S':\n",
    "                subs_weights[i] += 1.0\n",
    "            elif i<len(row_ind)-1 and formation_with_subs[col_ind[i]]==formation_with_subs[col_ind[i+1]]:\n",
    "                if cm[row_ind[i], col_ind[i]]*cm[row_ind[i+1], col_ind[i+1]] != 0:\n",
    "                    formation_dict['cost'] += 1.0; # try and penalise case where no preferred position\n",
    "        \n",
    "        vals.append(formation_dict['cost'])\n",
    "        cm = alter_subs_weights(cm, subs_weights)\n",
    "    \n",
    "    val = np.var(vals)\n",
    "    #print(x, val)\n",
    "    \n",
    "    return val\n",
    "\n",
    "this_week_player_costs = get_this_week_player_costs(this_week)\n",
    "cm_no_subs = dict_to_cost_matrix(this_week_player_costs, formation)\n",
    "#cm = append_subs_to_cost_matrix(cm_no_subs, np.zeros(n_players_this_week))\n",
    "\n",
    "# n_repeats = 0\n",
    "# if n_players_this_week == 7:\n",
    "#     n_repeats = 7\n",
    "# elif n_players_this_week == 8:\n",
    "#     n_repeats = 4\n",
    "# elif n_players_this_week == 9:\n",
    "#     n_repeats = 3\n",
    "\n",
    "bound = (0, 1)\n",
    "bounds = []\n",
    "for i in range(n_players_this_week):\n",
    "    bounds.append(bound)\n",
    "    \n",
    "res = minimize(objective_function, x0=np.zeros(n_players_this_week), args=(cm_no_subs, n_repeats), bounds=bounds, method='SLSQP', options={'eps':0.1})\n",
    "print(res)\n",
    "\n"
   ]
  },
  {
   "cell_type": "markdown",
   "id": "464a2155",
   "metadata": {},
   "source": [
    "todo:\n",
    "* set up cost matrix\n",
    "* follow through to end of match\n",
    "* if later combinations are forbidden, go back and adjust sub weights?\n",
    "* could turn into a meta-optimisation problem, where you are trying to optimise the inital subs weights per player to minimise total cost to team\n",
    "* integrate small weight reduction to incentivise not changing position\n",
    "* dynamic cost matrix - can i prevent failure cases where algorithm wastes all best combinations early on?"
   ]
  },
  {
   "cell_type": "code",
   "execution_count": 14,
   "id": "cf459d67",
   "metadata": {},
   "outputs": [
    {
     "name": "stdout",
     "output_type": "stream",
     "text": [
      "{'D': ['helen', 'caroline'], 'C': ['vicky'], 'W': ['christine', 'keah'], 'F': ['mychelle'], 'S': ['jaz', 'olivia', 'sian'], 'cost': 0.45374251440262015}\n",
      "{'D': ['sian', 'caroline'], 'C': ['olivia'], 'W': ['jaz', 'keah'], 'F': ['mychelle'], 'S': ['vicky', 'helen', 'christine'], 'cost': 0.5}\n",
      "{'D': ['helen', 'sian'], 'C': ['vicky'], 'W': ['jaz', 'christine'], 'F': ['olivia'], 'S': ['mychelle', 'keah', 'caroline'], 'cost': 1.0}\n"
     ]
    }
   ],
   "source": [
    "initial_subs_weights = res.x\n",
    "cm = append_subs_to_cost_matrix(cm_no_subs, initial_subs_weights)\n",
    "    \n",
    "subs_weights = initial_subs_weights.copy()\n",
    "formations_for_plotting = [] \n",
    "\n",
    "for i in range(n_repeats):\n",
    "    row_ind, col_ind = linear_sum_assignment(cm)\n",
    "    out = convert_lsa_output_to_formation(cm, row_ind, col_ind, this_week, formation_with_subs)\n",
    "    \n",
    "    print(out)\n",
    "    \n",
    "    this_formation = ['etsuko']\n",
    "    for position in ['D', 'C', 'W', 'F', 'S']:\n",
    "        for player in out[position]:\n",
    "            this_formation.append(player)\n",
    "    \n",
    "    formations_for_plotting.append(this_formation)\n",
    "    \n",
    "    for i in range(len(row_ind)):\n",
    "        if formation_with_subs[col_ind[i]]=='S':\n",
    "            subs_weights[i] += sub_weight\n",
    "    cm = alter_subs_weights(cm, subs_weights)"
   ]
  },
  {
   "cell_type": "code",
   "execution_count": 15,
   "id": "ff839a6b",
   "metadata": {},
   "outputs": [],
   "source": [
    "def plot_formation(formation, t_start, t_stop):\n",
    "    # format for formation should be: GK, LB, RB, C, LW, RW, CF, S, S, S\n",
    "    plt.figure(figsize=[6,6])\n",
    "    make_pitch()\n",
    "    \n",
    "    positions_x = [2.5, 1.5, 3.5, 2.5, 0.5, 4.5, 2.5, 6.5, 6.5, 6.5]\n",
    "    positions_y = [4, 2.8, 2.8, 1.6, 1, 1, 0, 3, 2, 1]\n",
    "    \n",
    "    if len(formation)==10:\n",
    "        positions_x.append(6.5)\n",
    "        positions_y.append(0)\n",
    "        \n",
    "    formation.append('pete')\n",
    "    \n",
    "    for i in range(len(formation)):\n",
    "        plt.annotate(formation[i], (positions_x[i], positions_y[i]+0.25), color='white', fontsize=14, ha='center')\n",
    "    \n",
    "    plt.plot(positions_x, positions_y, 'o', ms=10, markerfacecolor='red', markeredgecolor='white')\n",
    "    \n",
    "    plt.annotate(f'{t_start} - {t_stop} mins', (3.5, 5), color='white', fontsize=14, ha='center' )\n",
    "    \n",
    "def make_pitch():\n",
    "    #plt.figure(figsize=[6,6])\n",
    "    plt.xlim([-1, 8])\n",
    "    plt.ylim([-1, 5.5])\n",
    "    plt.hlines([4.5, -0.5], -0.5, 5.5, color='white' )\n",
    "    plt.hlines(3.5, 1.5, 3.5, color='white')\n",
    "    plt.vlines([-0.5, 5.5], -0.5, 4.5, color='white')\n",
    "    plt.vlines([1.5, 3.5], 3.5, 4.5, color='white')\n",
    "\n",
    "    plt.plot([2.5], [-0.5], 'o', ms=5, color='w')\n",
    "    \n",
    "    ax = plt.gca()\n",
    "    \n",
    "    ax.get_xaxis().set_visible(False)\n",
    "    ax.get_yaxis().set_visible(False)\n",
    "\n",
    "    ax.set_facecolor('green')\n",
    "    \n",
    "    return ax\n",
    "\n",
    "def plot_formations(formations, t_starts, t_stops):\n",
    "    n_repeats = len(formations)\n",
    "    \n",
    "    fig, axs = plt.subplots(1, n_repeats, figsize=[6*n_repeats,6])\n",
    "    \n",
    "    for i in range(n_repeats):\n",
    "        axs[i] = make_pitch()\n",
    "        \n",
    "        formation = formation[i]\n",
    "        t_start = t_starts[i]\n",
    "        t_stop = t_stops[i]\n",
    "        \n",
    "        plot_formation(formation, t_start, t_stop)\n",
    "    \n"
   ]
  },
  {
   "cell_type": "code",
   "execution_count": 27,
   "id": "2724cedb",
   "metadata": {},
   "outputs": [],
   "source": [
    "# plot_formations(formations_for_plotting, [0, 8, 16], [8, 16, 25])"
   ]
  },
  {
   "cell_type": "code",
   "execution_count": 17,
   "id": "60342fcf",
   "metadata": {},
   "outputs": [
    {
     "data": {
      "image/png": "[encoded data removed]",
      "text/plain": [
       "<Figure size 432x432 with 1 Axes>"
      ]
     },
     "metadata": {
      "needs_background": "light"
     },
     "output_type": "display_data"
    }
   ],
   "source": [
    "plot_formation(formations_for_plotting[0], 0, 8)"
   ]
  },
  {
   "cell_type": "code",
   "execution_count": 18,
   "id": "9bb89b6f",
   "metadata": {},
   "outputs": [
    {
     "data": {
      "image/png": "[encoded data removed]",
      "text/plain": [
       "<Figure size 432x432 with 1 Axes>"
      ]
     },
     "metadata": {
      "needs_background": "light"
     },
     "output_type": "display_data"
    }
   ],
   "source": [
    "plot_formation(formations_for_plotting[1], 8, 16)"
   ]
  },
  {
   "cell_type": "code",
   "execution_count": 19,
   "id": "f8692e54",
   "metadata": {},
   "outputs": [
    {
     "data": {
      "image/png": "[encoded data removed]",
      "text/plain": [
       "<Figure size 432x432 with 1 Axes>"
      ]
     },
     "metadata": {
      "needs_background": "light"
     },
     "output_type": "display_data"
    }
   ],
   "source": [
    "plot_formation(formations_for_plotting[2], 16, 24)"
   ]
  },
  {
   "cell_type": "code",
   "execution_count": 28,
   "id": "d4a26cdf",
   "metadata": {},
   "outputs": [],
   "source": [
    "# plot_formations(formations_for_plotting)"
   ]
  },
  {
   "cell_type": "code",
   "execution_count": 21,
   "id": "7f901d48",
   "metadata": {},
   "outputs": [
    {
     "data": {
      "image/png": "[encoded data removed]",
      "text/plain": [
       "<Figure size 432x432 with 1 Axes>"
      ]
     },
     "metadata": {
      "needs_background": "light"
     },
     "output_type": "display_data"
    }
   ],
   "source": [
    "plot_formation(['etsuko','jazzie', 'caroline','vicky','sian', 'jaz','christine','keah'],  25, 28)"
   ]
  },
  {
   "cell_type": "code",
   "execution_count": 22,
   "id": "02e22dcb",
   "metadata": {},
   "outputs": [
    {
     "data": {
      "image/png": "[encoded data removed]",
      "text/plain": [
       "<Figure size 432x432 with 1 Axes>"
      ]
     },
     "metadata": {
      "needs_background": "light"
     },
     "output_type": "display_data"
    }
   ],
   "source": [
    "plot_formation(['etsuko','jazzie', 'sian','vicky','keah', 'jaz','christine','caroline'],  28, 35)"
   ]
  },
  {
   "cell_type": "code",
   "execution_count": 23,
   "id": "d4421f79",
   "metadata": {},
   "outputs": [
    {
     "data": {
      "image/png": "[encoded data removed]",
      "text/plain": [
       "<Figure size 432x432 with 1 Axes>"
      ]
     },
     "metadata": {
      "needs_background": "light"
     },
     "output_type": "display_data"
    }
   ],
   "source": [
    "plot_formation(['etsuko','jazzie', 'caroline','jaz','keah', 'sian','christine','vicky'],  35, 42)"
   ]
  },
  {
   "cell_type": "code",
   "execution_count": 24,
   "id": "6f4598f4",
   "metadata": {},
   "outputs": [
    {
     "data": {
      "image/png": "[encoded data removed]",
      "text/plain": [
       "<Figure size 432x432 with 1 Axes>"
      ]
     },
     "metadata": {
      "needs_background": "light"
     },
     "output_type": "display_data"
    }
   ],
   "source": [
    "plot_formation(['etsuko','jazzie', 'caroline','vicky','jaz', 'sian','keah','christine'],  42, 50)"
   ]
  }
 ],
 "metadata": {
  "kernelspec": {
   "display_name": "Python 3 (ipykernel)",
   "language": "python",
   "name": "python3"
  },
  "language_info": {
   "codemirror_mode": {
    "name": "ipython",
    "version": 3
   },
   "file_extension": ".py",
   "mimetype": "text/x-python",
   "name": "python",
   "nbconvert_exporter": "python",
   "pygments_lexer": "ipython3",
   "version": "3.9.7"
  }
 },
 "nbformat": 4,
 "nbformat_minor": 5
}
